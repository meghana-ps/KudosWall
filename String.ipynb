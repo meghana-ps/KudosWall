{
 "cells": [
  {
   "cell_type": "code",
   "execution_count": 2,
   "id": "224b77e5",
   "metadata": {},
   "outputs": [
    {
     "data": {
      "text/plain": [
       "15"
      ]
     },
     "execution_count": 2,
     "metadata": {},
     "output_type": "execute_result"
    }
   ],
   "source": [
    "# calculator\n",
    "\n",
    "def calculator(exp):\n",
    "    try:\n",
    "        result = eval(exp)\n",
    "        return int(result)\n",
    "    except:\n",
    "        return \"invalid expression\"\n",
    "    \n",
    "calculator(\"6*(4/2)+3*1\")"
   ]
  },
  {
   "cell_type": "code",
   "execution_count": 3,
   "id": "b93dca42",
   "metadata": {},
   "outputs": [
    {
     "data": {
      "text/plain": [
       "True"
      ]
     },
     "execution_count": 3,
     "metadata": {},
     "output_type": "execute_result"
    }
   ],
   "source": [
    "#ab check\n",
    "\n",
    "def abcheck(str):\n",
    "    for i in range(len(str)):\n",
    "        if str[i] =='a':\n",
    "            if str[i+4] =='b':\n",
    "                return True\n",
    "        elif str[i] =='b':\n",
    "            if str[i+4] == 'a':\n",
    "                return False\n",
    "abcheck(\"lane borrowed\")"
   ]
  },
  {
   "cell_type": "code",
   "execution_count": 6,
   "id": "26dd64be",
   "metadata": {},
   "outputs": [
    {
     "data": {
      "text/plain": [
       "'false'"
      ]
     },
     "execution_count": 6,
     "metadata": {},
     "output_type": "execute_result"
    }
   ],
   "source": [
    "#alphabet search\n",
    "\n",
    "def absearch(str):\n",
    "    str_lower = str.lower()\n",
    "    for letter in \"qwertyuiopasdfghjklzxcvbnm\":\n",
    "        if letter not in str_lower:\n",
    "            return \"false\"\n",
    "    return \"true\"\n",
    "absearch(\"wsdcftyhbjikm\")"
   ]
  },
  {
   "cell_type": "code",
   "execution_count": 7,
   "id": "bbcc0f8f",
   "metadata": {},
   "outputs": [
    {
     "data": {
      "text/plain": [
       "'bcdeeorty'"
      ]
     },
     "execution_count": 7,
     "metadata": {},
     "output_type": "execute_result"
    }
   ],
   "source": [
    "#alphabet soup\n",
    "\n",
    "def alphabetsoup(str):\n",
    "    string = []\n",
    "    for char in str.lower():\n",
    "        string.append(char)\n",
    "    order_list =  sorted(string)\n",
    "    al_check = ''.join(order_list)\n",
    "    return al_check\n",
    "alphabetsoup(\"coderbyte\")"
   ]
  },
  {
   "cell_type": "code",
   "execution_count": 79,
   "id": "18d3215b",
   "metadata": {},
   "outputs": [
    {
     "data": {
      "text/plain": [
       "'10410110810811132119111114108100'"
      ]
     },
     "execution_count": 79,
     "metadata": {},
     "output_type": "execute_result"
    }
   ],
   "source": [
    "# ascii converter\n",
    "\n",
    "def ascii(string):\n",
    "    result = ''\n",
    "    for char in string:\n",
    "        if char != '':\n",
    "            result += str(ord(char))\n",
    "    return result\n",
    "ascii(\"hello world\")"
   ]
  },
  {
   "cell_type": "code",
   "execution_count": 13,
   "id": "8469f05a",
   "metadata": {},
   "outputs": [
    {
     "data": {
      "text/plain": [
       "46"
      ]
     },
     "execution_count": 13,
     "metadata": {},
     "output_type": "execute_result"
    }
   ],
   "source": [
    "# roman numericals\n",
    "\n",
    "def roman(str):\n",
    "    roman_to_decimal = {'I':1,'V':5,'X':10, 'L':50,'C':100,'M':1000}\n",
    "    result = 0\n",
    "    pre_value=0\n",
    "    \n",
    "    for char in reversed(str):\n",
    "        value = roman_to_decimal[char]\n",
    "        if value < pre_value:\n",
    "            result -= value\n",
    "        else:\n",
    "            result += value\n",
    "        \n",
    "        pre_value = value\n",
    "    return result\n",
    "roman(\"XLVI\")"
   ]
  },
  {
   "cell_type": "code",
   "execution_count": 16,
   "id": "be1ca810",
   "metadata": {},
   "outputs": [
    {
     "data": {
      "text/plain": [
       "19232"
      ]
     },
     "execution_count": 16,
     "metadata": {},
     "output_type": "execute_result"
    }
   ],
   "source": [
    "# binary reversal\n",
    "\n",
    "def binary(str):\n",
    "    binary_str = bin(int(str))[2:]\n",
    "    padded = binary_str.rjust((len(binary_str)+7)//8*8,'0')\n",
    "    reversed_binary = padded[::-1]\n",
    "    decimal_result = int(reversed_binary,2)\n",
    "    return decimal_result\n",
    "binary(\"1234\")"
   ]
  },
  {
   "cell_type": "code",
   "execution_count": 17,
   "id": "1a6db4be",
   "metadata": {},
   "outputs": [
    {
     "data": {
      "text/plain": [
       "'Ecguct Ekrjgt'"
      ]
     },
     "execution_count": 17,
     "metadata": {},
     "output_type": "execute_result"
    }
   ],
   "source": [
    "#caser cipher\n",
    "\n",
    "def caser(str,num):\n",
    "    encode = ''\n",
    "    for char in str:\n",
    "        if char.isalpha():\n",
    "            shift = 65 if char.isupper() else 97\n",
    "            code = chr((ord(char)- shift + num)% 26 +shift)\n",
    "            encode += code\n",
    "        else:\n",
    "            encode += char\n",
    "    return encode\n",
    "caser(\"Caesar Cipher\",2)"
   ]
  },
  {
   "cell_type": "code",
   "execution_count": 23,
   "id": "5fa3190e",
   "metadata": {},
   "outputs": [
    {
     "data": {
      "text/plain": [
       "'aBCDEFG'"
      ]
     },
     "execution_count": 23,
     "metadata": {},
     "output_type": "execute_result"
    }
   ],
   "source": [
    "# camel case\n",
    "\n",
    "import re\n",
    "def camel_case(str):\n",
    "    words = re.split(r'\\W+',str)\n",
    "    camel_case = words[0] +''.join(word.capitalize() for word in words[1:])\n",
    "    return camel_case\n",
    "camel_case(\"a b c d-e-f%g\")"
   ]
  },
  {
   "cell_type": "code",
   "execution_count": 25,
   "id": "c3f55790",
   "metadata": {},
   "outputs": [
    {
     "data": {
      "text/plain": [
       "True"
      ]
     },
     "execution_count": 25,
     "metadata": {},
     "output_type": "execute_result"
    }
   ],
   "source": [
    "#coderland user byte\n",
    "\n",
    "def coderland(str):\n",
    "    if len(str) not in range(4,25):\n",
    "        return False\n",
    "    if not str[0].isalpha():\n",
    "        return False\n",
    "    letters = 'qwertyuiopasdfghjklzxcvbnm'\n",
    "    digits = '1234567890'\n",
    "    for char in str:\n",
    "        if char in letters and digits:\n",
    "            return True\n",
    "    if str[-1] ==\"_\":\n",
    "        return False\n",
    "    return True\n",
    "coderland(\"u__hello_world123\")"
   ]
  },
  {
   "cell_type": "code",
   "execution_count": 46,
   "id": "0d394c57",
   "metadata": {},
   "outputs": [
    {
     "data": {
      "text/plain": [
       "'1 = 11 = 11 = 21 = 11 = 01 = 01 = 0'"
      ]
     },
     "execution_count": 46,
     "metadata": {},
     "output_type": "execute_result"
    }
   ],
   "source": [
    "#command line\n",
    "\n",
    "def command(str):\n",
    "    pairs = str.split()\n",
    "    result =[]\n",
    "    for pair in pairs:\n",
    "        parts = pair.split('=')\n",
    "        if len(parts) ==2:\n",
    "            token, value = parts\n",
    "            result.append(f'{len(token)} = {len(value)}')\n",
    "        else:\n",
    "            result.append(f'{len(parts)} = 0')\n",
    "    return ''.join(result)\n",
    "command(\"a=3 b=4 a=23 b=a 4 23 c=\")"
   ]
  },
  {
   "cell_type": "code",
   "execution_count": 37,
   "id": "48343a93",
   "metadata": {},
   "outputs": [
    {
     "data": {
      "text/plain": [
       "7"
      ]
     },
     "execution_count": 37,
     "metadata": {},
     "output_type": "execute_result"
    }
   ],
   "source": [
    "#consant count\n",
    "\n",
    "def conso(str):\n",
    "    vowels ='aeiou'\n",
    "    conso_count =  -1  # try taking 0 there instead of -1\n",
    "    for i in str:\n",
    "        if i not in vowels:\n",
    "            conso_count += 1\n",
    "    return conso_count\n",
    "conso(\"Hello World\")           "
   ]
  },
  {
   "cell_type": "code",
   "execution_count": 43,
   "id": "1f8311fa",
   "metadata": {},
   "outputs": [
    {
     "data": {
      "text/plain": [
       "1425"
      ]
     },
     "execution_count": 43,
     "metadata": {},
     "output_type": "execute_result"
    }
   ],
   "source": [
    "# counting minutes\n",
    "\n",
    "def countmin(str):\n",
    "    start,end = str.split('-')\n",
    "    start_hr, start_min,start_meridian = start[:-2].split(\":\") + [start[-2:]]\n",
    "    end_hr, end_min, end_meridian = end[:-2].split(\":\") + [end[-2:]]\n",
    "    start_hr, start_min = int(start_hr),int(start_min)\n",
    "    end_hr,end_min = int(end_hr), int(end_min)\n",
    "    \n",
    "    if start_meridian  == 'pm' and start_hr != 12:\n",
    "        start_hr +=12\n",
    "    if end_meridian =='pm' and end_hr !=12:\n",
    "        end_hr += 12\n",
    "        \n",
    "    start_min = start_hr *60 + start_min\n",
    "    end_min = end_hr *60 + end_min\n",
    "    \n",
    "    if start_min <=end_min:\n",
    "        return end_min - start-min\n",
    "    else:\n",
    "        return 24*60 - (start_min - end_min)\n",
    "countmin(\"1:23am-1:08am\")\n",
    "\n",
    "    "
   ]
  },
  {
   "cell_type": "code",
   "execution_count": 47,
   "id": "1cd8cd33",
   "metadata": {},
   "outputs": [
    {
     "data": {
      "text/plain": [
       "'9-9-94*6'"
      ]
     },
     "execution_count": 47,
     "metadata": {},
     "output_type": "execute_result"
    }
   ],
   "source": [
    "#dash insert (both)\n",
    "\n",
    "def dash(str):\n",
    "    result = []\n",
    "    for i in range(len(str)-1):\n",
    "        result.append(str[i])\n",
    "        curr_dig = int(str[i])\n",
    "        next_dig = int(str[i+1])\n",
    "        \n",
    "        if curr_dig %2 ==1 and next_dig %2 == 1:\n",
    "            result.append('-')\n",
    "        elif curr_dig %2 == 0 and next_dig %2 ==0 and curr_dig !=0 and next_dig !=0:\n",
    "            result.append('*')\n",
    "    result.append(str[-1])\n",
    "    return ''.join(result)\n",
    "dash(\"99946\")"
   ]
  },
  {
   "cell_type": "code",
   "execution_count": 48,
   "id": "3424a593",
   "metadata": {},
   "outputs": [
    {
     "data": {
      "text/plain": [
       "False"
      ]
     },
     "execution_count": 48,
     "metadata": {},
     "output_type": "execute_result"
    }
   ],
   "source": [
    "#distinct characters\n",
    "\n",
    "def distinct(str):\n",
    "    unique_char = set(str)\n",
    "    return len(unique_char) >= 10\n",
    "distinct(\"eeeemmmmm1000\")"
   ]
  },
  {
   "cell_type": "code",
   "execution_count": 49,
   "id": "4d3c9def",
   "metadata": {},
   "outputs": [
    {
     "data": {
      "text/plain": [
       "'true'"
      ]
     },
     "execution_count": 49,
     "metadata": {},
     "output_type": "execute_result"
    }
   ],
   "source": [
    "#exoh\n",
    "\n",
    "def exoh(str):\n",
    "    x_count = 0\n",
    "    o_count =0\n",
    "    for char in str:\n",
    "        if char == 'x':\n",
    "            x_count+=1\n",
    "        if char == 'o':\n",
    "            o_count +=1\n",
    "    if x_count == o_count:\n",
    "        return \"true\"\n",
    "    return \"false\"\n",
    "exoh(\"xxoo\")"
   ]
  },
  {
   "cell_type": "code",
   "execution_count": 50,
   "id": "d0868152",
   "metadata": {},
   "outputs": [
    {
     "data": {
      "text/plain": [
       "'cba'"
      ]
     },
     "execution_count": 50,
     "metadata": {},
     "output_type": "execute_result"
    }
   ],
   "source": [
    "# first reverse\n",
    "\n",
    "def first(str):\n",
    "    rev = ''\n",
    "    for char in str[::-1]:\n",
    "        rev += char\n",
    "    return rev\n",
    "first(\"abc\")\n"
   ]
  },
  {
   "cell_type": "code",
   "execution_count": 53,
   "id": "48ef00ed",
   "metadata": {},
   "outputs": [
    {
     "data": {
      "text/plain": [
       "'1 2 Fizz'"
      ]
     },
     "execution_count": 53,
     "metadata": {},
     "output_type": "execute_result"
    }
   ],
   "source": [
    "#fizz buss\n",
    "\n",
    "def fizzbuss(num):\n",
    "    result =[]\n",
    "    for i in range(1, num+1):\n",
    "        if i %3 == 0 and i % 5 == 0:\n",
    "            result.append(\"Fizzbuzz\")\n",
    "        elif i%3 == 0:\n",
    "            result.append(\"Fizz\")\n",
    "        elif i %5 ==0:\n",
    "            result.append(\"buzz\")\n",
    "        else:\n",
    "            result.append(str(i))\n",
    "    return ' '.join(result)\n",
    "fizzbuss(3)"
   ]
  },
  {
   "cell_type": "code",
   "execution_count": 55,
   "id": "cf023fb8",
   "metadata": {},
   "outputs": [
    {
     "data": {
      "text/plain": [
       "'0.6667'"
      ]
     },
     "execution_count": 55,
     "metadata": {},
     "output_type": "execute_result"
    }
   ],
   "source": [
    "# formated division\n",
    "\n",
    "def formates(num1, num2):\n",
    "    divi = num1/num2\n",
    "    format = '{:,.4f}'.format(divi)\n",
    "    return format\n",
    "formates(2,3)"
   ]
  },
  {
   "cell_type": "code",
   "execution_count": 56,
   "id": "442a2607",
   "metadata": {},
   "outputs": [
    {
     "data": {
      "text/plain": [
       "False"
      ]
     },
     "execution_count": 56,
     "metadata": {},
     "output_type": "execute_result"
    }
   ],
   "source": [
    "# formated numbers\n",
    "\n",
    "def format(arr):\n",
    "    try:\n",
    "        num = float(arr[0].replace(',',''))\n",
    "        return arr[0].replace(',','') == str(num)\n",
    "    except ValueError:\n",
    "        return False\n",
    "format(['2,567.00.2'])\n"
   ]
  },
  {
   "cell_type": "code",
   "execution_count": 57,
   "id": "c7efbff6",
   "metadata": {},
   "outputs": [
    {
     "data": {
      "text/plain": [
       "'Hello World'"
      ]
     },
     "execution_count": 57,
     "metadata": {},
     "output_type": "execute_result"
    }
   ],
   "source": [
    "# letter capatilize\n",
    "\n",
    "def cap(str):\n",
    "    cap = str.title()\n",
    "    return cap\n",
    "cap(\"hello world\")"
   ]
  },
  {
   "cell_type": "code",
   "execution_count": 66,
   "id": "43d16ed0",
   "metadata": {},
   "outputs": [
    {
     "data": {
      "text/plain": [
       "'Ifmmp*3'"
      ]
     },
     "execution_count": 66,
     "metadata": {},
     "output_type": "execute_result"
    }
   ],
   "source": [
    "#letter changes\n",
    "\n",
    "def changes(str):\n",
    "    letters = 'abcdefghijklmnopqrstuvwxyz'\n",
    "    encode = ''\n",
    "    for letter in str.lower():\n",
    "        if letter not in letters:\n",
    "            encode += letter\n",
    "        elif letter =='z':\n",
    "            encode += 'a'\n",
    "        elif letter == 'Z':\n",
    "            encode += \"A\"\n",
    "        else:\n",
    "            index = letters.index(letter)\n",
    "            encode += letters[index+1]\n",
    "    capalitize = ''\n",
    "    for char in encode:\n",
    "        if char in 'aeiou':\n",
    "            capalitize += char.upper()\n",
    "        else:\n",
    "            capalitize += char\n",
    "    return capalitize\n",
    "    \n",
    "changes('hello*3')"
   ]
  },
  {
   "cell_type": "code",
   "execution_count": 72,
   "id": "e2a992fb",
   "metadata": {},
   "outputs": [
    {
     "data": {
      "text/plain": [
       "'greatest'"
      ]
     },
     "execution_count": 72,
     "metadata": {},
     "output_type": "execute_result"
    }
   ],
   "source": [
    "#letter count\n",
    "\n",
    "def letter(str):\n",
    "    str = str.lower()\n",
    "    arr  = str.split(\" \")\n",
    "    count = 0\n",
    "    word = '-1'\n",
    "    for i in range(len(arr)):\n",
    "        for a in range(len(arr[i])):\n",
    "            countNew = 0\n",
    "            for b in range(a+1, len(arr[i])):\n",
    "                if arr[i][a] == arr[i][b]:\n",
    "                    countNew +=1\n",
    "            if countNew > count:\n",
    "                count = countNew\n",
    "                word = arr[i]\n",
    "    return word\n",
    "\n",
    "letter(\"Today is the greatest day ever\")"
   ]
  },
  {
   "cell_type": "code",
   "execution_count": 76,
   "id": "e5b32c46",
   "metadata": {},
   "outputs": [
    {
     "data": {
      "text/plain": [
       "'time'"
      ]
     },
     "execution_count": 76,
     "metadata": {},
     "output_type": "execute_result"
    }
   ],
   "source": [
    "# longest word\n",
    "\n",
    "def longest(str):\n",
    "    longest = \"\"\n",
    "    long_count = 0\n",
    "    for x in str.split():\n",
    "        temp = 0\n",
    "        for y in x:\n",
    "            if y.isalpha():\n",
    "                temp+=1\n",
    "        if temp > long_count:\n",
    "            long_count = temp\n",
    "            longest = x\n",
    "    return longest\n",
    "longest(\"fun&!! time\")"
   ]
  },
  {
   "cell_type": "code",
   "execution_count": 77,
   "id": "30f41dca",
   "metadata": {},
   "outputs": [
    {
     "data": {
      "text/plain": [
       "4"
      ]
     },
     "execution_count": 77,
     "metadata": {},
     "output_type": "execute_result"
    }
   ],
   "source": [
    "# matching char\n",
    "\n",
    "def matching(str):\n",
    "    max_unique = 0\n",
    "    for i in range(len(str)):\n",
    "        for j in range(i+1 , len(str)):\n",
    "            if str[i] == str[j]:\n",
    "                unique_char = len(set(str[i+1: j]))\n",
    "                max_unique = max(max_unique, unique_char)\n",
    "    return max_unique\n",
    "matching(\"ahyjakh\")"
   ]
  },
  {
   "cell_type": "code",
   "execution_count": 80,
   "id": "491742eb",
   "metadata": {},
   "outputs": [
    {
     "data": {
      "text/plain": [
       "'85121215 45'"
      ]
     },
     "execution_count": 80,
     "metadata": {},
     "output_type": "execute_result"
    }
   ],
   "source": [
    "# number encoding\n",
    "\n",
    "def encoding(string):\n",
    "    encode = ''\n",
    "    for char in string:\n",
    "        if char.isalpha():\n",
    "            encode += str(ord(char.lower()) - ord('a')+1)\n",
    "        else:\n",
    "            encode += char\n",
    "    return encode\n",
    "encoding(\"hello 45\")"
   ]
  },
  {
   "cell_type": "code",
   "execution_count": 81,
   "id": "d8c48999",
   "metadata": {},
   "outputs": [
    {
     "data": {
      "text/plain": [
       "3"
      ]
     },
     "execution_count": 81,
     "metadata": {},
     "output_type": "execute_result"
    }
   ],
   "source": [
    "# off binary\n",
    "\n",
    "def binary(str):\n",
    "    list1, list2 = str[0],str[1]\n",
    "    list1 =  bin(int(list1))[2:]\n",
    "    count = 0\n",
    "    for i in range(len(list1)):\n",
    "        if list1[i] != list2[i]:\n",
    "            count +=1\n",
    "    return count\n",
    "binary(['44','111111'])"
   ]
  },
  {
   "cell_type": "code",
   "execution_count": 82,
   "id": "23d02f1e",
   "metadata": {},
   "outputs": [
    {
     "data": {
      "text/plain": [
       "2"
      ]
     },
     "execution_count": 82,
     "metadata": {},
     "output_type": "execute_result"
    }
   ],
   "source": [
    "# onedecremented\n",
    "\n",
    "def onedec(str):\n",
    "    count =0\n",
    "    for i in range(len(str)):\n",
    "        curr = int(str[i])\n",
    "        prev = int(str[i-1])\n",
    "        if curr-1 ==prev:\n",
    "            count +=1\n",
    "    return count\n",
    "onedec(\"5655984\")"
   ]
  },
  {
   "cell_type": "code",
   "execution_count": 84,
   "id": "8165dc8c",
   "metadata": {},
   "outputs": [
    {
     "data": {
      "text/plain": [
       "True"
      ]
     },
     "execution_count": 84,
     "metadata": {},
     "output_type": "execute_result"
    }
   ],
   "source": [
    "# palindrome\n",
    "\n",
    "def pali(str):\n",
    "    punct = '!@#$%^&*()_+{}|:\"<>?-=[]\\;,./\"\"'\n",
    "    str = str.replace(' ','').lower()\n",
    "    for str in punct:\n",
    "        if str == str[::-1]:\n",
    "            return True\n",
    "        else:\n",
    "            return False\n",
    "pali(\"A war at Tarawa!\")\n",
    "    "
   ]
  },
  {
   "cell_type": "code",
   "execution_count": 87,
   "id": "d15a6ba0",
   "metadata": {},
   "outputs": [
    {
     "data": {
      "text/plain": [
       "'true'"
      ]
     },
     "execution_count": 87,
     "metadata": {},
     "output_type": "execute_result"
    }
   ],
   "source": [
    "# question mark\n",
    "\n",
    "def ques(str):\n",
    "    num_pos=[]\n",
    "    count_question_mark =0\n",
    "    for char in str:\n",
    "        if char.isdigit():\n",
    "            num_pos.append(int(char))\n",
    "        elif char == '?':\n",
    "            count_question_mark +=1\n",
    "        \n",
    "        if len(num_pos) ==2 and sum(num_pos) == 10 and count_question_mark ==3:\n",
    "            return \"true\"\n",
    "        elif len(num_pos) ==2:\n",
    "            num_pos.pop(0)\n",
    "            count_question_mark =0\n",
    "    return \"false\"\n",
    "\n",
    "ques(\"9???1???9???1???9\")"
   ]
  },
  {
   "cell_type": "code",
   "execution_count": 90,
   "id": "a15aa791",
   "metadata": {},
   "outputs": [
    {
     "data": {
      "text/plain": [
       "'e2w3'"
      ]
     },
     "execution_count": 90,
     "metadata": {},
     "output_type": "execute_result"
    }
   ],
   "source": [
    "# run length\n",
    "\n",
    "def run(string):\n",
    "    d = {}\n",
    "    comp =''\n",
    "    for i in string:\n",
    "        if i in d:\n",
    "            d[i] +=1\n",
    "        else:\n",
    "            d[i] =1\n",
    "    for char, count in d.items():\n",
    "        comp += char+ str(count)\n",
    "    return comp\n",
    "run(\"eewww\")"
   ]
  },
  {
   "cell_type": "code",
   "execution_count": 93,
   "id": "7e1b3f82",
   "metadata": {},
   "outputs": [
    {
     "data": {
      "text/plain": [
       "'false'"
      ]
     },
     "execution_count": 93,
     "metadata": {},
     "output_type": "execute_result"
    }
   ],
   "source": [
    "#simple password\n",
    "\n",
    "def simplepass(str):\n",
    "    if not(7< len(str) <31):\n",
    "        return \"false\"\n",
    "    if not any (char.isupper() for char in str):\n",
    "        return \"false\"\n",
    "    if not any(char.isdigit() for char in str):\n",
    "        return \"false\"\n",
    "    if not re.search(r'[!@#$%^&*(){}|:\"<>?[]\\;,./', str):\n",
    "        return \"false\"\n",
    "    if \"password\" in str.lower():\n",
    "        return \"false\"\n",
    "    return \"true\"\n",
    "simplepass(\"password123!!!!!\")\n",
    "        "
   ]
  },
  {
   "cell_type": "code",
   "execution_count": 96,
   "id": "bec292e2",
   "metadata": {},
   "outputs": [
    {
     "data": {
      "text/plain": [
       "'false'"
      ]
     },
     "execution_count": 96,
     "metadata": {},
     "output_type": "execute_result"
    }
   ],
   "source": [
    "# simple symbols\n",
    "\n",
    "def simple_sym(str):\n",
    "    if str and (char.isalpha() for char in str):\n",
    "        for i in range(len(str)):\n",
    "            if str[i].isalpha():\n",
    "                if i == 0 or i ==len(str)-1 or (str[i-1] != '+' or str[i+1] != '+'):\n",
    "                    return \"false\"\n",
    "    return \"true\"\n",
    "simple_sym(\"f++d+\")"
   ]
  },
  {
   "cell_type": "code",
   "execution_count": 99,
   "id": "2257f9d0",
   "metadata": {},
   "outputs": [
    {
     "data": {
      "text/plain": [
       "'half empty empty empty empty'"
      ]
     },
     "execution_count": 99,
     "metadata": {},
     "output_type": "execute_result"
    }
   ],
   "source": [
    "# star rating\n",
    "\n",
    "def star_rating(str):\n",
    "    rating = float(str)\n",
    "    round_rating = round(rating *2) /2\n",
    "    full_stars = int(round_rating //1)\n",
    "    has_half_star = round_rating %1!=0\n",
    "    star_images = ['full'] *full_stars + (['half'] if has_half_star else[]) + [\"empty\"] * (5-full_stars-int(has_half_star))\n",
    "    return ' '.join(star_images)\n",
    "star_rating(\"0.38\")"
   ]
  },
  {
   "cell_type": "code",
   "execution_count": 100,
   "id": "1566d4f1",
   "metadata": {},
   "outputs": [
    {
     "data": {
      "text/plain": [
       "15"
      ]
     },
     "execution_count": 100,
     "metadata": {},
     "output_type": "execute_result"
    }
   ],
   "source": [
    "# string calculate\n",
    "\n",
    "def stringcal(str):\n",
    "    return int(eval(str))\n",
    "stringcal(\"6*(4/2)+3*1\")"
   ]
  },
  {
   "cell_type": "code",
   "execution_count": 102,
   "id": "5b291afb",
   "metadata": {},
   "outputs": [
    {
     "data": {
      "text/plain": [
       "'rtyggg'"
      ]
     },
     "execution_count": 102,
     "metadata": {},
     "output_type": "execute_result"
    }
   ],
   "source": [
    "#string changes\n",
    "\n",
    "def Stringchanges(str):\n",
    "    result =[]\n",
    "    i=0\n",
    "    while i < len(str):\n",
    "        char = str[i]\n",
    "        if char.islower():\n",
    "            result.append(char)\n",
    "            i+=1\n",
    "        elif char ==\"M\":\n",
    "            if result:\n",
    "                result.append(result[-1])\n",
    "            i+=1\n",
    "        elif char =='N':\n",
    "            i+=2\n",
    "        else:\n",
    "            i+=1\n",
    "    return ''.join(result)\n",
    "Stringchanges(\"MrtyNNgMM\")"
   ]
  },
  {
   "cell_type": "code",
   "execution_count": 106,
   "id": "ceca0493",
   "metadata": {},
   "outputs": [
    {
     "data": {
      "text/plain": [
       "'threefour'"
      ]
     },
     "execution_count": 106,
     "metadata": {},
     "output_type": "execute_result"
    }
   ],
   "source": [
    "# string expression\n",
    "\n",
    "def strexp(string):\n",
    "    word_to_number={\n",
    "        'zero':'0',\n",
    "        'one':'1',\n",
    "        'two':'2',\n",
    "        'three': '3',\n",
    "        'four':'4',\n",
    "        'five':'5',\n",
    "        'six':'6',\n",
    "        'seven':'7',\n",
    "        'eight':'8',\n",
    "        'nine':'9',\n",
    "        'pluse':'+',\n",
    "        'minus':'-',\n",
    "    }\n",
    "    \n",
    "    for word, number in word_to_number.items():\n",
    "        string = string.replace(word, number)\n",
    "    result = str(eval(string))\n",
    "    if result.startswith('-'):\n",
    "        result = 'negative'+ result[1:]\n",
    "    for word, number in word_to_number.items():\n",
    "        result = result.replace(number, word)\n",
    "    return result\n",
    "strexp(\"foursixminustwotwopluseonezero\")"
   ]
  },
  {
   "cell_type": "code",
   "execution_count": 107,
   "id": "6abfe07c",
   "metadata": {},
   "outputs": [
    {
     "data": {
      "text/plain": [
       "2"
      ]
     },
     "execution_count": 107,
     "metadata": {},
     "output_type": "execute_result"
    }
   ],
   "source": [
    "#string reduction\n",
    "\n",
    "def strred(s):\n",
    "    while \"ab\" in s or \"bc\" in s or \"ca\" in s:\n",
    "        s = s.replace(\"ab\",\"c\").replace(\"bc\",\"a\").replace(\"ca\",\"b\")\n",
    "    return len(s)\n",
    "strred(\"bcab\")"
   ]
  },
  {
   "cell_type": "code",
   "execution_count": 108,
   "id": "10c8407c",
   "metadata": {},
   "outputs": [
    {
     "data": {
      "text/plain": [
       "False"
      ]
     },
     "execution_count": 108,
     "metadata": {},
     "output_type": "execute_result"
    }
   ],
   "source": [
    "# string scramble\n",
    "\n",
    "def strscr(str1,str2):\n",
    "    out_str = str1\n",
    "    inner_str =str2\n",
    "    for char in inner_str:\n",
    "        if char not in out_str:\n",
    "            return False\n",
    "        update_outer = out_str.replace(char,'',1)\n",
    "        out_str = update_outer\n",
    "        \n",
    "    return True\n",
    "strscr(\"abc\",'abc gfd')"
   ]
  },
  {
   "cell_type": "code",
   "execution_count": null,
   "id": "0c8d851a",
   "metadata": {},
   "outputs": [],
   "source": [
    "# swipe case\n",
    "\n",
    "def swipcase(str):\n",
    "    result = ''\n",
    "    i=0\n",
    "    while i < len(str):\n",
    "        if str[i].isalpha():\n",
    "            result += str[i].swapcase()\n",
    "            i +=1\n",
    "        elif str[i].isdigit():\n",
    "            start = i\n",
    "            while i< len(s) and str[i].isdigit():\n",
    "                i+=1\n",
    "            result += str[start :i][::-1]\n",
    "            else:\n",
    "                result += str[i]\n",
    "                i+=1\n",
    "    return result\n",
    "\n",
    "swipcase(\"Hello -5LOL6\")"
   ]
  },
  {
   "cell_type": "code",
   "execution_count": null,
   "id": "f3eef659",
   "metadata": {},
   "outputs": [],
   "source": [
    "#time convert\n",
    "\n",
    "def timeconvert(str):\n",
    "    return \"{hour}:{minutes}\".format(hour = int(num/60), minutes = int(num%60))\n",
    "timeconvert(73)"
   ]
  },
  {
   "cell_type": "code",
   "execution_count": null,
   "id": "78696354",
   "metadata": {},
   "outputs": [],
   "source": [
    "# word count\n",
    "\n",
    "def wordcount(str):\n",
    "    word = str.split()\n",
    "    return len(word)\n",
    "wordcount(\"Never eat shredded wheat\")"
   ]
  },
  {
   "cell_type": "code",
   "execution_count": null,
   "id": "6312faa9",
   "metadata": {},
   "outputs": [],
   "source": []
  }
 ],
 "metadata": {
  "kernelspec": {
   "display_name": "Python 3 (ipykernel)",
   "language": "python",
   "name": "python3"
  },
  "language_info": {
   "codemirror_mode": {
    "name": "ipython",
    "version": 3
   },
   "file_extension": ".py",
   "mimetype": "text/x-python",
   "name": "python",
   "nbconvert_exporter": "python",
   "pygments_lexer": "ipython3",
   "version": "3.9.12"
  }
 },
 "nbformat": 4,
 "nbformat_minor": 5
}
