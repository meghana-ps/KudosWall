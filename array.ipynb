{
 "cells": [
  {
   "cell_type": "code",
   "execution_count": 3,
   "id": "48e4e9ae",
   "metadata": {},
   "outputs": [
    {
     "data": {
      "text/plain": [
       "1"
      ]
     },
     "execution_count": 3,
     "metadata": {},
     "output_type": "execute_result"
    }
   ],
   "source": [
    "# array persistence\n",
    "\n",
    "def arrper(num):\n",
    "    str_num = list(str(num))\n",
    "    loop_count = 0\n",
    "    sum =0\n",
    "    if len(str_num) ==1:\n",
    "        return 1\n",
    "    while(len(str_num) !=1):\n",
    "        for n in str_num:\n",
    "            sum += int(n)\n",
    "            loop_count +=1\n",
    "            str_num.remove(n)\n",
    "    return loop_count\n",
    "arrper(19)"
   ]
  },
  {
   "cell_type": "code",
   "execution_count": 7,
   "id": "e39680d8",
   "metadata": {},
   "outputs": [
    {
     "data": {
      "text/plain": [
       "2"
      ]
     },
     "execution_count": 7,
     "metadata": {},
     "output_type": "execute_result"
    }
   ],
   "source": [
    "# array jumps\n",
    "\n",
    "def jumps(arr):\n",
    "    if len(arr) == 1:\n",
    "        return 0\n",
    "    min_jumps = 0\n",
    "    index =0\n",
    "    while True:\n",
    "        min_jumps +=1\n",
    "        if arr[index] == 0:\n",
    "            return -1\n",
    "        max_rechable = index + arr[index]\n",
    "        if max_rechable >= len(arr) -1:\n",
    "            break\n",
    "        next_index = max(range(index+1, max_rechable\n",
    "                               +1), key = lambda i:i+arr[i])\n",
    "        index = next_index\n",
    "    return min_jumps\n",
    "jumps([3,4,2,1,1,100])"
   ]
  },
  {
   "cell_type": "code",
   "execution_count": 9,
   "id": "212612e3",
   "metadata": {},
   "outputs": [
    {
     "data": {
      "text/plain": [
       "'6321'"
      ]
     },
     "execution_count": 9,
     "metadata": {},
     "output_type": "execute_result"
    }
   ],
   "source": [
    "# array rotation\n",
    "\n",
    "def arrroat(arr):\n",
    "    rot_index = arr[0]\n",
    "    rot_arr= arr[rot_index:] + arr[:rot_index]\n",
    "    string = ''.join(map(str, rot_arr))\n",
    "    return string\n",
    "arrroat([3,2,1,6])"
   ]
  },
  {
   "cell_type": "code",
   "execution_count": 10,
   "id": "3e773264",
   "metadata": {},
   "outputs": [
    {
     "data": {
      "text/plain": [
       "5"
      ]
     },
     "execution_count": 10,
     "metadata": {},
     "output_type": "execute_result"
    }
   ],
   "source": [
    "# bracket combination\n",
    "\n",
    "def combi(num):\n",
    "    if num ==0:\n",
    "        return 1\n",
    "    tot_com =0\n",
    "    for i in range(num):\n",
    "        tot_com += combi(i) * combi(num -1-i)\n",
    "    return tot_com\n",
    "combi(3)"
   ]
  },
  {
   "cell_type": "code",
   "execution_count": 23,
   "id": "b67598d9",
   "metadata": {},
   "outputs": [
    {
     "data": {
      "text/plain": [
       "4"
      ]
     },
     "execution_count": 23,
     "metadata": {},
     "output_type": "execute_result"
    }
   ],
   "source": [
    "# closest enemy\n",
    "\n",
    "def emeny(arr):\n",
    "    pos1 = arr.index(1)\n",
    "    dist_left = float('inf')\n",
    "    dist_right = float('inf')\n",
    "    \n",
    "    for i in range(pos1 -1,-1,-1):\n",
    "        if arr[i] == 2:\n",
    "            dist_left = pos1 -i\n",
    "            break\n",
    "            \n",
    "    for i in range(pos1 +1,len(arr)):\n",
    "        if arr[i] == 2:\n",
    "            dist_right = i-pos1\n",
    "            break\n",
    "    return min(dist_left,dist_right) if dist_left != float('inf') or dist_right != float('inf') else 0\n",
    "emeny([1,0,0,0,2,2,2])"
   ]
  },
  {
   "cell_type": "code",
   "execution_count": 13,
   "id": "d68c51ba",
   "metadata": {},
   "outputs": [
    {
     "data": {
      "text/plain": [
       "3"
      ]
     },
     "execution_count": 13,
     "metadata": {},
     "output_type": "execute_result"
    }
   ],
   "source": [
    "# distinct array\n",
    "\n",
    "def distinct(arr):\n",
    "    unique_ele =[]\n",
    "    duplicates=[]\n",
    "    for num in arr:\n",
    "        if num in unique_ele:\n",
    "            duplicates.append(num)\n",
    "        else:\n",
    "            unique_ele.append(num)\n",
    "    return len(duplicates)\n",
    "distinct([0,-2,-2,5,5,5])"
   ]
  },
  {
   "cell_type": "code",
   "execution_count": 2,
   "id": "2848eff0",
   "metadata": {},
   "outputs": [
    {
     "data": {
      "text/plain": [
       "True"
      ]
     },
     "execution_count": 2,
     "metadata": {},
     "output_type": "execute_result"
    }
   ],
   "source": [
    "# equivalent key press\n",
    "\n",
    "def equivalent(strarr):\n",
    "    def process_keypress(keypress):\n",
    "        stack =[]\n",
    "        for key in keypress:\n",
    "            if key =='-B':\n",
    "                if stack:\n",
    "                    stack.pop()\n",
    "            else:\n",
    "                stack.append(key)\n",
    "        return stack\n",
    "    processed_str1 = process_keypress(strarr[0].split(','))\n",
    "    processed_str2 = process_keypress(strarr[1].split(','))\n",
    "    return processed_str1 == processed_str2\n",
    "\n",
    "equivalent([\"a,b,c,d\",\"a,b,c,d,-B,d\"])"
   ]
  },
  {
   "cell_type": "code",
   "execution_count": 14,
   "id": "47169a5e",
   "metadata": {},
   "outputs": [
    {
     "data": {
      "text/plain": [
       "2"
      ]
     },
     "execution_count": 14,
     "metadata": {},
     "output_type": "execute_result"
    }
   ],
   "source": [
    "#HD distance\n",
    "\n",
    "def Hd(strarr):\n",
    "    str1, str2 = strarr\n",
    "    return sum(ch1 != ch2 for ch1, ch2 in zip(str1,str2))\n",
    "Hd([\"house\",\"hours\"])"
   ]
  },
  {
   "cell_type": "code",
   "execution_count": 20,
   "id": "93d6d866",
   "metadata": {},
   "outputs": [
    {
     "data": {
      "text/plain": [
       "'C-A-E-D-Z'"
      ]
     },
     "execution_count": 20,
     "metadata": {},
     "output_type": "execute_result"
    }
   ],
   "source": [
    "# LRUcache\n",
    "\n",
    "def LRU(strarr):\n",
    "    chache =[]\n",
    "    result =[]\n",
    "    for element in strarr:\n",
    "        if element in chache:\n",
    "            chache.remove(element)\n",
    "        chache.append(element)\n",
    "        chache = chache[-5:]\n",
    "    return \"-\".join(chache)\n",
    "LRU(['A','B','C','D','A','E','D','Z'])"
   ]
  },
  {
   "cell_type": "code",
   "execution_count": 21,
   "id": "5b61f032",
   "metadata": {},
   "outputs": [
    {
     "data": {
      "text/plain": [
       "13"
      ]
     },
     "execution_count": 21,
     "metadata": {},
     "output_type": "execute_result"
    }
   ],
   "source": [
    "# largest four\n",
    "\n",
    "def largest(arr):\n",
    "    arr.sort(reverse = True)\n",
    "    result = sum(arr[:4])\n",
    "    return result\n",
    "largest([0,0,2,3,7,1])"
   ]
  },
  {
   "cell_type": "code",
   "execution_count": 3,
   "id": "696acfda",
   "metadata": {},
   "outputs": [
    {
     "data": {
      "text/plain": [
       "2"
      ]
     },
     "execution_count": 3,
     "metadata": {},
     "output_type": "execute_result"
    }
   ],
   "source": [
    "#longest consivitue\n",
    "\n",
    "def longcons(arr):\n",
    "    if not arr:\n",
    "        return 0\n",
    "    arr.sort()\n",
    "    long_streak = 1\n",
    "    current_streak = 1\n",
    "    \n",
    "    for i in range(1,len(arr)):\n",
    "        if arr[i] == arr[i-1]+1:\n",
    "            current_streak +=1\n",
    "        elif arr[i] != arr[i-1]:\n",
    "            current_streak =1\n",
    "        long_streak  = max(long_streak , current_streak)\n",
    "    return long_streak\n",
    "longcons([6,7,3,1,100,102,6,12])\n",
    "            \n",
    "            "
   ]
  },
  {
   "cell_type": "code",
   "execution_count": 6,
   "id": "e26039ec",
   "metadata": {},
   "outputs": [
    {
     "data": {
      "text/plain": [
       "'1,2,3,6,9,8,7,4,5'"
      ]
     },
     "execution_count": 6,
     "metadata": {},
     "output_type": "execute_result"
    }
   ],
   "source": [
    "#matrix sprial\n",
    "\n",
    "def matrixspiral(arr):\n",
    "    matrix = [list(map(int, eval(row))) for row in arr]\n",
    "    result =[]\n",
    "    while matrix:\n",
    "        result += matrix.pop(0)\n",
    "        for row in matrix:\n",
    "            result.append(row.pop())\n",
    "        if matrix and matrix[-1]:\n",
    "            result += matrix.pop()[::-1]\n",
    "        for row in matrix[::-1]:\n",
    "            result.append(row.pop(0))\n",
    "    return ','.join(map(str,result))\n",
    "matrixspiral(['[1,2,3]','[4,5,6]','[7,8,9]'])"
   ]
  },
  {
   "cell_type": "code",
   "execution_count": 25,
   "id": "a8dc367d",
   "metadata": {},
   "outputs": [
    {
     "data": {
      "text/plain": [
       "11"
      ]
     },
     "execution_count": 25,
     "metadata": {},
     "output_type": "execute_result"
    }
   ],
   "source": [
    "# max sub array\n",
    "\n",
    "def sub(arr):\n",
    "    max_sum = float('-inf')\n",
    "    curr_sum =0\n",
    "    for num in arr:\n",
    "        curr_sum = max(num,curr_sum + num)\n",
    "        max_sum = max(max_sum , curr_sum)\n",
    "    return max_sum\n",
    "sub([-2,5,-1,7,-3])"
   ]
  },
  {
   "cell_type": "code",
   "execution_count": 27,
   "id": "468fc895",
   "metadata": {},
   "outputs": [
    {
     "data": {
      "text/plain": [
       "'-1 2 -1 4 -1 -1 1 -1'"
      ]
     },
     "execution_count": 27,
     "metadata": {},
     "output_type": "execute_result"
    }
   ],
   "source": [
    "# nearset smallest value\n",
    "\n",
    "def val(arr):\n",
    "    result =[]\n",
    "    for i in range(len(arr)):\n",
    "        found_small = False\n",
    "        \n",
    "        for j in range(i-1,-1,-1):\n",
    "            if arr[j] < arr[i]:\n",
    "                result.append(str(arr[j]))\n",
    "                founr_small = True\n",
    "                break\n",
    "        if not found_small:\n",
    "            result.append('-1')\n",
    "    return ' '.join(result)\n",
    "val([2,4,5,1,7])"
   ]
  },
  {
   "cell_type": "code",
   "execution_count": 8,
   "id": "f44ddb39",
   "metadata": {},
   "outputs": [
    {
     "data": {
      "text/plain": [
       "'1,2'"
      ]
     },
     "execution_count": 8,
     "metadata": {},
     "output_type": "execute_result"
    }
   ],
   "source": [
    "# offline minimum\n",
    "\n",
    "def offline(arr):\n",
    "    result = []\n",
    "    curr_set =[]\n",
    "    for item in arr:\n",
    "        if item ==\"E\":\n",
    "            small = min(curr_set)\n",
    "            result.append(str(small))\n",
    "            curr_set.remove(small)\n",
    "        else:\n",
    "            curr_set.append(int(item))\n",
    "    return','.join(result)\n",
    "offline(['1','2','3','E','E','3'])"
   ]
  },
  {
   "cell_type": "code",
   "execution_count": 12,
   "id": "405497d8",
   "metadata": {},
   "outputs": [
    {
     "data": {
      "text/plain": [
       "6"
      ]
     },
     "execution_count": 12,
     "metadata": {},
     "output_type": "execute_result"
    }
   ],
   "source": [
    "# rectangle area\n",
    "\n",
    "def rect(arr):\n",
    "    coord= [tuple(map(int , point.strip('()').split())) for point in arr]\n",
    "    width = max(coo[0] for coo in coord) - min(coo[0] for coo in coord)\n",
    "    height = max(coo[1] for coo in coord) - min(coo[1] for coo in coord)\n",
    "    area = width * height\n",
    "    return area\n",
    "rect([\"(0 0)\",\"(3 0)\",\"(0 2)\",\"(3 2)\"])"
   ]
  },
  {
   "cell_type": "code",
   "execution_count": 13,
   "id": "6fe89c8c",
   "metadata": {},
   "outputs": [
    {
     "data": {
      "text/plain": [
       "'hello,cat'"
      ]
     },
     "execution_count": 13,
     "metadata": {},
     "output_type": "execute_result"
    }
   ],
   "source": [
    "# word split\n",
    "\n",
    "def Wordsplit(arr):\n",
    "    sequence , dictionary = arr[0], arr[1].split(',')\n",
    "    for i in range(1, len(sequence)):\n",
    "        w1,w2 = sequence[:i],sequence[i:]\n",
    "        if w1 in dictionary and w2 in dictionary:\n",
    "            return f\"{w1},{w2}\"\n",
    "    return \"not possible\"\n",
    "Wordsplit([\"hellocat\",\"apple,bat,cat,goodbye,hello,yello,why\"])"
   ]
  },
  {
   "cell_type": "code",
   "execution_count": 35,
   "id": "3e413149",
   "metadata": {},
   "outputs": [
    {
     "data": {
      "text/plain": [
       "'7-4-6-10-6'"
      ]
     },
     "execution_count": 35,
     "metadata": {},
     "output_type": "execute_result"
    }
   ],
   "source": [
    "# array matching\n",
    "def match(arr):\n",
    "    arr1 = eval(arr[0])\n",
    "    arr2 = eval(arr[1])\n",
    "    max_length = max(len(arr1), len(arr2))\n",
    "    result = [(arr1[i] if i< len(arr1) else 0) + (arr2[i] if i < len(arr2) else o) for i in range(max_length)]\n",
    "    result = '-'.join(map(str,result))\n",
    "    return result\n",
    "match(['[5,2,3]','[2,2,3,10,6]'])"
   ]
  },
  {
   "cell_type": "code",
   "execution_count": 68,
   "id": "c5c90528",
   "metadata": {},
   "outputs": [
    {
     "data": {
      "text/plain": [
       "True"
      ]
     },
     "execution_count": 68,
     "metadata": {},
     "output_type": "execute_result"
    }
   ],
   "source": [
    "# arr similar\n",
    "\n",
    "def simi(a,b):\n",
    "    if len(a) != len(b):\n",
    "        return False\n",
    "    diff_count = sum(ai != bi for ai, bi in zip(a,b))\n",
    "    return diff_count ==0 or diff_count ==2\n",
    "simi([1,2,3],[1,2,3])"
   ]
  },
  {
   "cell_type": "code",
   "execution_count": 38,
   "id": "f3074135",
   "metadata": {},
   "outputs": [
    {
     "data": {
      "text/plain": [
       "'1101'"
      ]
     },
     "execution_count": 38,
     "metadata": {},
     "output_type": "execute_result"
    }
   ],
   "source": [
    "# bitwise one\n",
    "\n",
    "def one(arr):\n",
    "    result = ''.join('1' if a=='1' or b == '1' else '0' for a,b in zip(arr[0], arr[1]))\n",
    "    return result\n",
    "one([\"1001\",'0100'])"
   ]
  },
  {
   "cell_type": "code",
   "execution_count": 39,
   "id": "9a7bbc47",
   "metadata": {},
   "outputs": [
    {
     "data": {
      "text/plain": [
       "'000'"
      ]
     },
     "execution_count": 39,
     "metadata": {},
     "output_type": "execute_result"
    }
   ],
   "source": [
    "#bitwise two\n",
    "\n",
    "def two(arr):\n",
    "    result = ''.join('1' if a =='1' and b == '1' else '0' for a,b in zip(arr[0],arr[1]))\n",
    "    return result\n",
    "two([\"100\",\"000\"])"
   ]
  },
  {
   "cell_type": "code",
   "execution_count": 41,
   "id": "fd41664c",
   "metadata": {},
   "outputs": [
    {
     "data": {
      "text/plain": [
       "3"
      ]
     },
     "execution_count": 41,
     "metadata": {},
     "output_type": "execute_result"
    }
   ],
   "source": [
    "# changing sequesnce\n",
    "\n",
    "def canging(arr):\n",
    "    inc = dec = None\n",
    "    for i in range(len(arr)-1):\n",
    "        if arr[i] < arr[i+1]:\n",
    "            inc = True\n",
    "        elif arr[i] > arr[i+1]:\n",
    "            dec = True\n",
    "        if inc and dec:\n",
    "             return i\n",
    "    return -1\n",
    "canging([5,4,3,2,10,11])"
   ]
  },
  {
   "cell_type": "code",
   "execution_count": 42,
   "id": "60080929",
   "metadata": {},
   "outputs": [
    {
     "data": {
      "text/plain": [
       "1"
      ]
     },
     "execution_count": 42,
     "metadata": {},
     "output_type": "execute_result"
    }
   ],
   "source": [
    "# count anagrganm\n",
    "\n",
    "def ang(arr):\n",
    "    words = arr.split()\n",
    "    word_count = [words.count(word) for word in set(words)]\n",
    "    anag_count = sum(count -1 for count in word_count)\n",
    "    return anag_count\n",
    "ang('aa aa  odg dog gdo')"
   ]
  },
  {
   "cell_type": "code",
   "execution_count": 43,
   "id": "cf903315",
   "metadata": {},
   "outputs": [
    {
     "data": {
      "text/plain": [
       "1"
      ]
     },
     "execution_count": 43,
     "metadata": {},
     "output_type": "execute_result"
    }
   ],
   "source": [
    "# element manager\n",
    "\n",
    "def man(arr):\n",
    "    while len(arr) > 1:\n",
    "        arr = [abs(arr[i] - arr[i+1]) for i in range(len(arr) -1)]\n",
    "    return arr[0]\n",
    "\n",
    "man([1,1,1,2])"
   ]
  },
  {
   "cell_type": "code",
   "execution_count": 67,
   "id": "13e20a9a",
   "metadata": {},
   "outputs": [
    {
     "data": {
      "text/plain": [
       "'1,4,13'"
      ]
     },
     "execution_count": 67,
     "metadata": {},
     "output_type": "execute_result"
    }
   ],
   "source": [
    "# find intersection\n",
    "\n",
    "def inter(arr):\n",
    "    lst1 = list(map(int,arr[0].split(',')))\n",
    "    lst2 = list(map(int,arr[1].split(',')))\n",
    "    intersection = set(lst1) & set(lst2)\n",
    "    result = ','.join(map(str, sorted(intersection)))\n",
    "    return result if result else\"false\"\n",
    "inter([\"1,3,4,7,13\",\"1,2,4,13,15\"])"
   ]
  },
  {
   "cell_type": "code",
   "execution_count": 45,
   "id": "bde43b11",
   "metadata": {},
   "outputs": [
    {
     "data": {
      "text/plain": [
       "0"
      ]
     },
     "execution_count": 45,
     "metadata": {},
     "output_type": "execute_result"
    }
   ],
   "source": [
    "# mean mode\n",
    "\n",
    "from statistics import mean,mode\n",
    "def stat(arr):\n",
    "    arr_mean = mean(arr)\n",
    "    arr_mode = mode(arr)\n",
    "    \n",
    "    return 1 if arr_mean == arr_mode else 0\n",
    "stat([1,2,3])"
   ]
  },
  {
   "cell_type": "code",
   "execution_count": 7,
   "id": "14bb875d",
   "metadata": {},
   "outputs": [
    {
     "data": {
      "text/plain": [
       "'12-3-4'"
      ]
     },
     "execution_count": 7,
     "metadata": {},
     "output_type": "execute_result"
    }
   ],
   "source": [
    "# other products\n",
    "\n",
    "def other_prod(arr):\n",
    "    result = [1] * len(arr)\n",
    "    left_prod = 1\n",
    "    for i in range(len(arr)):\n",
    "        result[i] *=left_prod\n",
    "        left_prod  *= arr[i]\n",
    "    right_prod = 1\n",
    "    for i in range(len(arr)-1,-1,-1):\n",
    "        result[i] *=right_prod\n",
    "        right_prod  *= arr[i]\n",
    "    result_str ='-'.join(map(str, result))\n",
    "    return result_str\n",
    "other_prod([1,4,3])\n",
    "    "
   ]
  },
  {
   "cell_type": "code",
   "execution_count": 55,
   "id": "5c5862a3",
   "metadata": {},
   "outputs": [
    {
     "data": {
      "text/plain": [
       "False"
      ]
     },
     "execution_count": 55,
     "metadata": {},
     "output_type": "execute_result"
    }
   ],
   "source": [
    "# over lapping\n",
    "\n",
    "def lap(arr):\n",
    "    r1 = set(range(arr[0], arr[1]+1))\n",
    "    r2= set(range(arr[2], arr[3]+1))\n",
    "    over_lap_count = len(r1.intersection(r2))\n",
    "    return over_lap_count >= arr[4]\n",
    "lap([1,8,2,4,4])"
   ]
  },
  {
   "cell_type": "code",
   "execution_count": 15,
   "id": "1aeea3e6",
   "metadata": {},
   "outputs": [
    {
     "data": {
      "text/plain": [
       "'3,6'"
      ]
     },
     "execution_count": 15,
     "metadata": {},
     "output_type": "execute_result"
    }
   ],
   "source": [
    "# scale balancing\n",
    "\n",
    "def scale(arr):\n",
    "    left_weight, right_weight = eval(arr[0])\n",
    "    ava_weight  = eval(arr[1])\n",
    "    \n",
    "    for weight in ava_weight:\n",
    "        if left_weight + weight == right_weight+ weight or left_weight == right_weight+ weight:\n",
    "            return str(weight)\n",
    "        \n",
    "    for w1 in ava_weight:\n",
    "        for w2 in ava_weight:\n",
    "            if w1 != w2 and (left_weight + w1+ w2 == right_weight or \n",
    "                            left_weight == right_weight + w1+w2):\n",
    "                return f\"{min(w1,w2)},{max(w1,w2)}\"\n",
    "    return \"not possible\"\n",
    "\n",
    "scale([\"[13,4]\",\"[1,2,3,6,14]\"])"
   ]
  },
  {
   "cell_type": "code",
   "execution_count": 66,
   "id": "85ec8d67",
   "metadata": {},
   "outputs": [
    {
     "data": {
      "text/plain": [
       "'12 106'"
      ]
     },
     "execution_count": 66,
     "metadata": {},
     "output_type": "execute_result"
    }
   ],
   "source": [
    "#second and third\n",
    "\n",
    "def secondandthird(arr):\n",
    "    sorted_arr = sorted(set(arr))\n",
    "    if(len(sorted_arr)) <2:\n",
    "        return \"false\"\n",
    "    sec_low = sorted_arr[1]\n",
    "    sec_great = sorted_arr[-2]\n",
    "    return f'{sec_low} {sec_great}'\n",
    "secondandthird([7,7,12,988,106])"
   ]
  },
  {
   "cell_type": "code",
   "execution_count": 58,
   "id": "39fc6f54",
   "metadata": {},
   "outputs": [
    {
     "data": {
      "text/plain": [
       "'false'"
      ]
     },
     "execution_count": 58,
     "metadata": {},
     "output_type": "execute_result"
    }
   ],
   "source": [
    "# summult\n",
    "\n",
    "def summult(arr):\n",
    "    arr_sum = sum(arr)\n",
    "    for i in range(len(arr) - 1):\n",
    "        for j in range(i+1,len(arr)):\n",
    "            if arr[i] * arr[j] > 2* arr_sum:\n",
    "                return \"true\"\n",
    "    return \"false\"\n",
    "summult([2,2,2,2,4,1])"
   ]
  },
  {
   "cell_type": "code",
   "execution_count": 59,
   "id": "18febf52",
   "metadata": {},
   "outputs": [
    {
     "data": {
      "text/plain": [
       "'true'"
      ]
     },
     "execution_count": 59,
     "metadata": {},
     "output_type": "execute_result"
    }
   ],
   "source": [
    "#super increase\n",
    "\n",
    "def inc(arr):\n",
    "    for i in range(1,len(arr)):\n",
    "        if arr[i] <= sum(arr[:i]):\n",
    "            return\"false\"\n",
    "    return \"true\"\n",
    "inc([1,3,6,13,54])"
   ]
  },
  {
   "cell_type": "code",
   "execution_count": 60,
   "id": "dc23b53c",
   "metadata": {},
   "outputs": [
    {
     "data": {
      "text/plain": [
       "'a'"
      ]
     },
     "execution_count": 60,
     "metadata": {},
     "output_type": "execute_result"
    }
   ],
   "source": [
    "# third greatest\n",
    "\n",
    "def great(arr):\n",
    "    arr.sort(key = len)\n",
    "    return arr[-3]\n",
    "great([\"a\",\"avf\",\"frgt\"])"
   ]
  },
  {
   "cell_type": "code",
   "execution_count": 62,
   "id": "a8503c47",
   "metadata": {},
   "outputs": [
    {
     "data": {
      "text/plain": [
       "'false'"
      ]
     },
     "execution_count": 62,
     "metadata": {},
     "output_type": "execute_result"
    }
   ],
   "source": [
    "# wave sorting\n",
    "\n",
    "def wavesort(arr):\n",
    "    arr.sort()\n",
    "    for i in range(1,len(arr) -1,2):\n",
    "        if arr[i] <= arr[i-1] or arr[i] <= arr[i+1]:\n",
    "            return \"false\"\n",
    "    return\"true\"\n",
    "wavesort([0,2,4,1,1,1])"
   ]
  },
  {
   "cell_type": "code",
   "execution_count": 5,
   "id": "911d6c22",
   "metadata": {},
   "outputs": [
    {
     "data": {
      "text/plain": [
       "'bcX7vXetXurX'"
      ]
     },
     "execution_count": 5,
     "metadata": {},
     "output_type": "execute_result"
    }
   ],
   "source": [
    "# letter changes with challenge tocken\n",
    "\n",
    "def letter_change(str):\n",
    "    modified_str = ''\n",
    "    new_str = ''\n",
    "    count = 0\n",
    "    for char in str:\n",
    "        if char.isalpha():\n",
    "            if char == 'z':\n",
    "                next_letter == 'a'\n",
    "            elif char =='Z':\n",
    "                next_letter == 'A'\n",
    "            else:\n",
    "                next_letter = chr(ord(char)+1)\n",
    "            if next_letter.lower() in 'aeiuo':\n",
    "                next_letter = next_letter.upper()\n",
    "            modified_str += next_letter\n",
    "        else:\n",
    "             modified_str += char\n",
    "                \n",
    "    x = modified_str +\"7vietdur9\"\n",
    "    for i in x:\n",
    "        if count % 3==2:\n",
    "            new_str  += 'X'\n",
    "        else:\n",
    "            new_str += i\n",
    "        count +=1\n",
    "    return new_str\n",
    "\n",
    "letter_change(\"abc\")                "
   ]
  },
  {
   "cell_type": "code",
   "execution_count": null,
   "id": "3bde2a1c",
   "metadata": {},
   "outputs": [],
   "source": []
  }
 ],
 "metadata": {
  "kernelspec": {
   "display_name": "Python 3 (ipykernel)",
   "language": "python",
   "name": "python3"
  },
  "language_info": {
   "codemirror_mode": {
    "name": "ipython",
    "version": 3
   },
   "file_extension": ".py",
   "mimetype": "text/x-python",
   "name": "python",
   "nbconvert_exporter": "python",
   "pygments_lexer": "ipython3",
   "version": "3.9.12"
  }
 },
 "nbformat": 4,
 "nbformat_minor": 5
}
